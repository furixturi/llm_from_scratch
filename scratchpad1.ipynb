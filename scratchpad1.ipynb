{
 "cells": [
  {
   "cell_type": "markdown",
   "metadata": {},
   "source": [
    "# Scratchpad 1 - build GPT model"
   ]
  },
  {
   "cell_type": "markdown",
   "metadata": {},
   "source": [
    "## 1. GPT Model Architecture\n",
    "\n",
    "With Dummy Transformer Blocks and LayerNorm modules."
   ]
  },
  {
   "cell_type": "code",
   "execution_count": 1,
   "metadata": {},
   "outputs": [],
   "source": [
    "GPT_CONFIG_124M = {\n",
    "    \"vocab_size\": 50257,\n",
    "    \"context_length\": 1024,\n",
    "    \"embedding_dim\": 768,\n",
    "    \"n_heads\": 12,\n",
    "    \"n_layers\": 12,\n",
    "    \"dropout_rate\": 0.1,\n",
    "    \"qkv_bias\": False,\n",
    "}"
   ]
  },
  {
   "cell_type": "code",
   "execution_count": 2,
   "metadata": {},
   "outputs": [],
   "source": [
    "import torch\n",
    "import torch.nn as nn"
   ]
  },
  {
   "cell_type": "code",
   "execution_count": 3,
   "metadata": {},
   "outputs": [],
   "source": [
    "class DummyTransformerBlock(nn.Module):\n",
    "    def __init__(self, config):\n",
    "        super().__init__()\n",
    "    \n",
    "    def forward(self, x):\n",
    "        return x"
   ]
  },
  {
   "cell_type": "code",
   "execution_count": 4,
   "metadata": {},
   "outputs": [],
   "source": [
    "class DummyLayerNorm(nn.Module):\n",
    "    def __init__(self, config):\n",
    "        super().__init__()\n",
    "    \n",
    "    def forward(self, x):\n",
    "        return x"
   ]
  },
  {
   "cell_type": "code",
   "execution_count": 5,
   "metadata": {},
   "outputs": [],
   "source": [
    "class GPTModel(nn.Module):\n",
    "    def __init__(self, config):\n",
    "        super().__init__()\n",
    "\n",
    "        # embedding layers\n",
    "        self.tok_emb = nn.Embedding(config[\"vocab_size\"], config[\"embedding_dim\"])\n",
    "        self.pos_emb = nn.Embedding(config[\"context_length\"], config[\"embedding_dim\"])\n",
    "        # first dropout layer\n",
    "        self.dropout_emb = nn.Dropout(config[\"dropout_rate\"])\n",
    "\n",
    "        # transformer blocks\n",
    "        self.transformer_blocks = nn.Sequential(\n",
    "            # unpacking operator \"*\" unpacks a list of TransformerBlock objects as arguments to nn.Sequential\n",
    "            *[DummyTransformerBlock(config) for _ in range(config[\"n_layers\"])]\n",
    "        )\n",
    "\n",
    "        # final LayerNorm layer\n",
    "        self.final_norm = DummyLayerNorm(config)\n",
    "        # output head layer\n",
    "        ## its input is the final hidden state of shape (batch_size, context_length, embedding_dim)\n",
    "        ## its output is a logits vector of shape (batch_size, context_length, vocab_size), each value in the last dimension corresponds to that token ID's score in the whole vacabulary\n",
    "        ## each sequence position in the output represents the predicted next token of the corresponding position's token in the input\n",
    "        self.out_head = nn.Linear(config[\"embedding_dim\"], config[\"vocab_size\"]) \n",
    "\n",
    "\n",
    "    def forward(self, in_idx):\n",
    "        batch_size, seq_len = in_idx.shape # in_idx is a tensor of input token IDs of shape (batch_size, seq_len, vocab_size)\n",
    "        tok_emb = self.tok_emb(in_idx) # will return each token's token embeddings of shape (batch_size, seq_len, embedding_dim)\n",
    "        pos_emb = self.pos_emb(torch.arange(seq_len, device=in_idx.device)) # will return each token's positional embeddings of shape (batch_size seq_len, embedding_dim)\n",
    "        # add positional embeddings to token embeddings \n",
    "        x = tok_emb + pos_emb\n",
    "        \n",
    "        # pass through first dropout layer\n",
    "        x = self.dropout_emb(x)\n",
    "        # pass through transformer blocks\n",
    "        x = self.transformer_blocks(x)\n",
    "        # pass through final LayerNorm layer\n",
    "        x = self.final_norm(x)\n",
    "\n",
    "        # pass through output head layer to get the logits\n",
    "        logits = self.out_head(x)   # logits is of shape (batch_size, seq_len, vocab_size)\n",
    "        return logits"
   ]
  },
  {
   "cell_type": "markdown",
   "metadata": {},
   "source": [
    "For the token embedding layer, `nn.Embedding(vocab_size, embedding_dim)` module creates an token embedding lookup table of shape `(vocab_size, embedding_dim)`. \n",
    "\n",
    "Once it gets an input sequence (aka a sequence of `context_length` number of `token IDs`), or a batch of input sequences (shape `(batch_size, context_length)` of `token_IDs`), it will do the table lookup to get the embeddings (embedding_dim) for each token ID, and output the token embedding tensor of shape `(context_length, embedding_dim)` or `(batch_size, context_length, embedding_dim)` when batched.\n",
    "\n"
   ]
  },
  {
   "cell_type": "markdown",
   "metadata": {},
   "source": [
    "## 2. LayerNorm module"
   ]
  },
  {
   "cell_type": "markdown",
   "metadata": {},
   "source": [
    "Layer normalization improves stability and efficiency of neural network training. \n",
    "\n",
    "The main idea is to adjust the activations (outputs) to have: \n",
    "- mean of 0\n",
    "- variance of 1 (unit variance)\n",
    "\n",
    "In GPT-2 LayerNorm is typically applied \n",
    "- before and after multi-head attention module\n",
    "- before the final output head"
   ]
  },
  {
   "cell_type": "code",
   "execution_count": 6,
   "metadata": {},
   "outputs": [],
   "source": [
    "import torch\n",
    "import torch.nn as nn\n",
    "\n",
    "class LayerNorm(nn.Module):\n",
    "    def __init__(self, config):\n",
    "        super().__init__()\n",
    "        embedding_dim = config[\"embedding_dim\"]\n",
    "        self.eps = 1e-5 # epsilon, a small constant to avoid division by zero\n",
    "        # two learnable parameter matrices to adjust the scaling and shifting to  best suit the data it is processing\n",
    "        self.scale = nn.Parameter(torch.ones(embedding_dim))\n",
    "        self.shift = nn.Parameter(torch.zeros(embedding_dim))\n",
    "    \n",
    "    def forward(self, x):\n",
    "        mean = x.mean(dim=-1, keepdim=True) # calculate mean of the last dimension\n",
    "        var = x.var(dim=-1, keepdim=True, unbiased=False) # calculate variance of the last dimension. unbiased=False means the variance is not calculated with the Bessel's correction (which would have devided by N-1 instead of N). This is compatible with the original GPT-2 which was implemented in TensorFlow.\n",
    "        norm_x = (x-mean) / torch.sqrt(var + self.eps) # calculate normalized version of the input tensor\n",
    "        return self.scale * norm_x + self.shift\n",
    "\n"
   ]
  },
  {
   "cell_type": "markdown",
   "metadata": {},
   "source": [
    "## 3. Transformer block"
   ]
  },
  {
   "cell_type": "markdown",
   "metadata": {},
   "source": [
    "### 3.1 Multihead Attention"
   ]
  },
  {
   "cell_type": "code",
   "execution_count": 7,
   "metadata": {},
   "outputs": [],
   "source": [
    "import torch\n",
    "import torch.nn as nn\n",
    "\n",
    "class MultiHeadAttention(nn.Module):\n",
    "    def __init__(self, d_in, d_out, context_length, droupout, n_heads, qkv_bias=False):\n",
    "        super().__init__()\n",
    "        assert d_out % n_heads == 0, \"d_out must be must divisible by n_heads\"\n",
    "\n",
    "        self.d_out = d_out\n",
    "        self.n_heads = n_heads\n",
    "        self.head_dim = d_out // n_heads # dimension of each head\n",
    "\n",
    "        # Query, key, value weight matrices\n",
    "        self.W_q = nn.Linear(d_in, d_out, bias=qkv_bias)\n",
    "        self.W_k = nn.Linear(d_in, d_out, bias=qkv_bias)\n",
    "        self.W_v = nn.Linear(d_in, d_out, bias=qkv_bias)\n",
    "    \n",
    "        # Linear layer to combine head outputs\n",
    "        self.out_proj = nn.Linear(d_out, d_out)\n",
    "\n",
    "        # Causal attention mask to prevent attending to future tokens (mask out the upper right triangle of the attention matrix)\n",
    "        ## using buffer ensures that the mask will automatically be moved to the appropriate device (CPU or GPU) during training with the model and data\n",
    "        ## torch.triu() returns the upper trianglular part (on and above the diagonal) of a matrix or batch of matrices, setting the other elements to 0. diagonal=1 exclueds the diagonal itself\n",
    "        self.register_buffer(\"mask\", torch.triu(torch.ones(context_length, context_length), diagonal=1))\n",
    "\n",
    "        # Apply an additional dropout mask to reduce overfitting\n",
    "        self.dropout = nn.Dropout(droupout)\n",
    "\n",
    "        # an optional linear projection at the end\n",
    "        self.out_proj = nn.Linear(d_out, d_out)\n",
    "\n",
    "    def forward(self, x):\n",
    "        batch_size, seq_len, d_in = x.shape\n",
    "        \n",
    "        keys = self.W_k(x) # shape: (batch_size, seq_len, d_out)\n",
    "        queries = self.W_q(x)\n",
    "        values = self.W_v(x)\n",
    "\n",
    "        # Split the keys, queries, and values into multiple heads\n",
    "        ## by rolling out the last dimension (batch_size, seq_len, d_out) -> (batch_size, seq_len, n_heads, head_dim)\n",
    "        keys = keys.view(batch_size, seq_len, self.n_heads, self.head_dim)\n",
    "        queries = queries.view(batch_size, seq_len, self.n_heads, self.head_dim)\n",
    "        values = values.view(batch_size, seq_len, self.n_heads, self.head_dim)\n",
    "\n",
    "        # Transpose the dimensions to perform attention\n",
    "        ## (batch_size, seq_len, n_heads, head_dim) -> (batch_size, n_heads, seq_len, head_dim)\n",
    "        keys = keys.transpose(1, 2)\n",
    "        queries = queries.transpose(1, 2)\n",
    "        values = values.transpose(1, 2)\n",
    "\n",
    "        # Compute scaled dot-product attention (self-attention)\n",
    "        attn_scores = queries @ keys.transpose(2, 3) # transpose keys last two dimensions (seq_len, head_dim) -> (head_dim, seq_len) to do dot product for each head\n",
    "\n",
    "        # Make a bookean mask from the original mask truncated to the seq_len of this batch\n",
    "        mask_bool = self.mask.bool()[:seq_len, :seq_len]\n",
    "        # Apply the mask to the attention scores, fill the 1s with -inf to zero out the scores\n",
    "        attn_scores.masked_fill_(mask_bool, -torch.inf)\n",
    "\n",
    "        # Use softmax to calculate attention weights from scaled attention scores\n",
    "        attn_weights = torch.softmax(attn_scores / keys.shape[-1] ** 0.5, dim=-1)\n",
    "        # Apply dropout to the attention weights\n",
    "        attn_weights = self.dropout(attn_weights)\n",
    "\n",
    "        # Calculate context vector applying attention weights to values\n",
    "        context_vec = attn_weights @ values\n",
    "        # transpose back n_heads and seq_len dimensions to prepare for head concatenation\n",
    "        ## (batch_size, n_heads, seq_len, head_dim) -> (batch_size, seq_len, n_heads, head_dim\n",
    "        context_vec = context_vec.transpose(1, 2)\n",
    "        # concatenate the heads\n",
    "        context_vec = context_vec.contiguous().view(batch_size, seq_len, self.d_out)\n",
    "        # optional linear projection\n",
    "        context_vec = self.out_proj(context_vec)\n",
    "\n",
    "        return context_vec\n"
   ]
  },
  {
   "cell_type": "markdown",
   "metadata": {},
   "source": [
    "### 3.2 FeedForward"
   ]
  },
  {
   "cell_type": "markdown",
   "metadata": {},
   "source": [
    "`GELU` (Gaussian error linear unit) activation, a more complex and smooth activation function incorporating Gaussian linear units. It offers improved performance for deep learning models, unlike simple ReLU."
   ]
  },
  {
   "cell_type": "code",
   "execution_count": 8,
   "metadata": {},
   "outputs": [],
   "source": [
    "import torch\n",
    "import torch.nn as nn\n",
    "\n",
    "class GELU(nn.Module):\n",
    "    def __init__(self):\n",
    "        super().__init__()\n",
    "\n",
    "    def forward(self, x):\n",
    "        return 0.5 * x * (1 + torch.tanh(\n",
    "            torch.sqrt(torch.tensor(2.0 / torch.pi)) *\n",
    "            (x + 0.044715 * torch.pow(x, 3))\n",
    "        ))"
   ]
  },
  {
   "cell_type": "markdown",
   "metadata": {},
   "source": [
    "FeedForward layer enhances the model's ability to learn from and generalize the data.\n",
    "\n",
    "Although the input and output dimensions are the same, it internally expands the embedding dimension into a higher-dimensional space through the first linear layer, followed by a nonlinear GELU activation, and then a contraction back to the original dimension with the second linear layer, allowing for the exploration of a richer representaion space."
   ]
  },
  {
   "cell_type": "code",
   "execution_count": 9,
   "metadata": {},
   "outputs": [],
   "source": [
    "import torch\n",
    "import torch.nn as nn\n",
    "\n",
    "class FeedForward(nn.Module):\n",
    "    def __init__(self, config):\n",
    "        super().__init__()\n",
    "        self.layers = nn.Sequential(\n",
    "            nn.Linear(config[\"embedding_dim\"], config[\"embedding_dim\"] * 4),\n",
    "            GELU(),\n",
    "            nn.Linear(config[\"embedding_dim\"] * 4, config[\"embedding_dim\"])\n",
    "        )\n",
    "    \n",
    "    def forward(self, x):\n",
    "        return self.layers(x)"
   ]
  },
  {
   "cell_type": "markdown",
   "metadata": {},
   "source": [
    "### 3.3 The full Transformer block"
   ]
  },
  {
   "cell_type": "markdown",
   "metadata": {},
   "source": [
    "- LayerNorm + Multihead attention module + dropout. Shortcut surrounding these modules.\n",
    "- LayerNorm + FeedForward module + dropout. Shortcut surrounding these modules."
   ]
  },
  {
   "cell_type": "code",
   "execution_count": 10,
   "metadata": {},
   "outputs": [],
   "source": [
    "import torch\n",
    "import torch.nn as nn\n",
    "\n",
    "class TransformerBlock(nn.Module):\n",
    "    def __init__(self, config):\n",
    "        super().__init__()\n",
    "        self.norm1 = LayerNorm(config)\n",
    "        self.att = MultiHeadAttention(\n",
    "            d_in=config[\"embedding_dim\"],\n",
    "            d_out=config[\"embedding_dim\"],\n",
    "            context_length=config[\"context_length\"],\n",
    "            droupout=config[\"dropout_rate\"],\n",
    "            n_heads=config[\"n_heads\"],\n",
    "            qkv_bias=config[\"qkv_bias\"]\n",
    "        )\n",
    "\n",
    "        self.norm2 = LayerNorm(config)\n",
    "        self.ff = FeedForward(config)\n",
    "\n",
    "        self.drop_shortcut = nn.Dropout(config[\"dropout_rate\"])\n",
    "\n",
    "    def forward(self, x):\n",
    "        # shortcut connection around multi-head attention block\n",
    "        shortcut = x\n",
    "        x = self.norm1(x)\n",
    "        x = self.att(x)\n",
    "        x = self.drop_shortcut(x)\n",
    "        x = x + shortcut\n",
    "\n",
    "        # shortcut connection around feed-forward block\n",
    "        shortcut = x\n",
    "        x = self.norm2(x)\n",
    "        x = self.ff(x)\n",
    "        x = self.drop_shortcut(x)\n",
    "        x = x + shortcut\n",
    "\n",
    "        return x"
   ]
  },
  {
   "cell_type": "markdown",
   "metadata": {},
   "source": [
    "## GPT with real Layernorm and Transformer Blocks"
   ]
  },
  {
   "cell_type": "code",
   "execution_count": 11,
   "metadata": {},
   "outputs": [],
   "source": [
    "class GPTModel(nn.Module):\n",
    "    def __init__(self, config):\n",
    "        super().__init__()\n",
    "\n",
    "        # embedding layers\n",
    "        self.tok_emb = nn.Embedding(config[\"vocab_size\"], config[\"embedding_dim\"])\n",
    "        self.pos_emb = nn.Embedding(config[\"context_length\"], config[\"embedding_dim\"])\n",
    "        # first dropout layer\n",
    "        self.dropout_emb = nn.Dropout(config[\"dropout_rate\"])\n",
    "\n",
    "        # transformer blocks\n",
    "        self.transformer_blocks = nn.Sequential(\n",
    "            # unpacking operator \"*\" unpacks a list of TransformerBlock objects as arguments to nn.Sequential\n",
    "            *[TransformerBlock(config) for _ in range(config[\"n_layers\"])]\n",
    "        )\n",
    "\n",
    "        # final LayerNorm layer\n",
    "        self.final_norm = LayerNorm(config)\n",
    "        # output head layer\n",
    "        ## its input is the final hidden state of shape (batch_size, context_length, embedding_dim)\n",
    "        ## its output is a logits vector of shape (batch_size, context_length, vocab_size), each value in the last dimension corresponds to that token ID's score in the whole vacabulary\n",
    "        ## each sequence position in the output represents the predicted next token of the corresponding position's token in the input\n",
    "        self.out_head = nn.Linear(config[\"embedding_dim\"], config[\"vocab_size\"]) \n",
    "\n",
    "\n",
    "    def forward(self, in_idx):\n",
    "        batch_size, seq_len = in_idx.shape # in_idx is a tensor of input token IDs of shape (batch_size, seq_len, vocab_size)\n",
    "        tok_emb = self.tok_emb(in_idx) # will return each token's token embeddings of shape (batch_size, seq_len, embedding_dim)\n",
    "        pos_emb = self.pos_emb(torch.arange(seq_len, device=in_idx.device)) # will return each token's positional embeddings of shape (batch_size seq_len, embedding_dim)\n",
    "        # add positional embeddings to token embeddings \n",
    "        x = tok_emb + pos_emb\n",
    "        \n",
    "        # pass through first dropout layer\n",
    "        x = self.dropout_emb(x)\n",
    "        # pass through transformer blocks\n",
    "        x = self.transformer_blocks(x)\n",
    "        # pass through final LayerNorm layer\n",
    "        x = self.final_norm(x)\n",
    "\n",
    "        # pass through output head layer to get the logits\n",
    "        logits = self.out_head(x)   # logits is of shape (batch_size, seq_len, vocab_size)\n",
    "        return logits"
   ]
  }
 ],
 "metadata": {
  "kernelspec": {
   "display_name": ".venv",
   "language": "python",
   "name": "python3"
  },
  "language_info": {
   "codemirror_mode": {
    "name": "ipython",
    "version": 3
   },
   "file_extension": ".py",
   "mimetype": "text/x-python",
   "name": "python",
   "nbconvert_exporter": "python",
   "pygments_lexer": "ipython3",
   "version": "3.12.5"
  }
 },
 "nbformat": 4,
 "nbformat_minor": 2
}
